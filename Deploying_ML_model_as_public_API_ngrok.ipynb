{
  "nbformat": 4,
  "nbformat_minor": 0,
  "metadata": {
    "colab": {
      "provenance": [],
      "gpuType": "T4"
    },
    "kernelspec": {
      "name": "python3",
      "display_name": "Python 3"
    },
    "language_info": {
      "name": "python"
    },
    "accelerator": "GPU"
  },
  "cells": [
    {
      "cell_type": "code",
      "execution_count": 1,
      "metadata": {
        "id": "erqlrhtBTiLp"
      },
      "outputs": [],
      "source": [
        "# !pip install fastapi\n",
        "# !pip install uvicorn\n",
        "# !pip install pydantic\n",
        "# !pip install scikit-learn\n",
        "# !pip install requests\n",
        "# !pip install pypi-json\n",
        "# !pip install pyngrok\n",
        "# !pip install nest-asyncio"
      ]
    },
    {
      "cell_type": "code",
      "source": [
        "!ngrok config add-authtoken 32L4iiG20IL14J4VSRrwSPHaM0v_6xEiWgMmfpmHzeHmaAX9e"
      ],
      "metadata": {
        "colab": {
          "base_uri": "https://localhost:8080/"
        },
        "id": "AJHZa2bYXnVp",
        "outputId": "8a538e88-6c05-40f7-caee-1c3d5487f7bd"
      },
      "execution_count": 2,
      "outputs": [
        {
          "output_type": "stream",
          "name": "stdout",
          "text": [
            "Authtoken saved to configuration file: /root/.config/ngrok/ngrok.yml\n"
          ]
        }
      ]
    },
    {
      "cell_type": "code",
      "source": [
        "import pickle\n",
        "import json\n",
        "import uvicorn\n",
        "import threading\n",
        "import time\n",
        "from fastapi import FastAPI\n",
        "from pydantic import BaseModel\n",
        "from fastapi.middleware.cors import CORSMiddleware\n",
        "from pyngrok import ngrok"
      ],
      "metadata": {
        "id": "_6MIAHSqh-Nr"
      },
      "execution_count": 3,
      "outputs": []
    },
    {
      "cell_type": "code",
      "source": [
        "app = FastAPI()\n",
        "origins = ['*']\n",
        "app.add_middleware(\n",
        "    CORSMiddleware,\n",
        "    allow_origins=origins,\n",
        "    allow_credentials=True,\n",
        "    allow_methods=['*'],\n",
        "    allow_headers=['*'],\n",
        ")"
      ],
      "metadata": {
        "id": "fRgA49SeiBsS"
      },
      "execution_count": 4,
      "outputs": []
    },
    {
      "cell_type": "code",
      "source": [
        "class model_input(BaseModel):\n",
        "    Pregnancies: int\n",
        "    Glucose: int\n",
        "    BloodPressure: int\n",
        "    SkinThickness: int\n",
        "    Insulin: int\n",
        "    BMI: float\n",
        "    DiabetesPedigreeFunction: float\n",
        "    Age: int"
      ],
      "metadata": {
        "id": "spzbFVSUiHz6"
      },
      "execution_count": 5,
      "outputs": []
    },
    {
      "cell_type": "code",
      "source": [
        "diabetes_model = pickle.load(open('retrained_model.sav', 'rb'))\n",
        "\n",
        "@app.post('/diabetes_prediction')\n",
        "def diabetes_pred(input_parameters: model_input):\n",
        "    input_dictionary = input_parameters.dict()\n",
        "\n",
        "    preg = input_dictionary['Pregnancies']\n",
        "    glu = input_dictionary['Glucose']\n",
        "    bp = input_dictionary['BloodPressure']\n",
        "    skin = input_dictionary['SkinThickness']\n",
        "    insulin = input_dictionary['Insulin']\n",
        "    bmi = input_dictionary['BMI']\n",
        "    dpf = input_dictionary['DiabetesPedigreeFunction']\n",
        "    age = input_dictionary['Age']\n",
        "\n",
        "    input_list = [preg, glu, bp, skin, insulin, bmi, dpf, age]\n",
        "\n",
        "    prediction = diabetes_model.predict([input_list])\n",
        "\n",
        "    if prediction[0] == 0:\n",
        "        return {'prediction': 'The person is not diabetic'}\n",
        "    else:\n",
        "        return {'prediction': 'The person is diabetic'}"
      ],
      "metadata": {
        "id": "cdOkvBACdt-a"
      },
      "execution_count": 6,
      "outputs": []
    },
    {
      "cell_type": "code",
      "source": [
        "ngrok_tunnel = ngrok.connect(8000)\n",
        "print('Public URL:', ngrok_tunnel.public_url)\n",
        "\n",
        "def run_server():\n",
        "    uvicorn.run(app, port=8000, host='0.0.0.0')\n",
        "\n",
        "thread = threading.Thread(target=run_server, daemon=True)\n",
        "thread.start()\n",
        "\n",
        "try:\n",
        "    while True:\n",
        "        time.sleep(1)\n",
        "except KeyboardInterrupt:\n",
        "    print(\"Shutting down server.\")\n",
        "    ngrok.kill()"
      ],
      "metadata": {
        "colab": {
          "base_uri": "https://localhost:8080/"
        },
        "id": "ylz7ZLN3iTS6",
        "outputId": "e7915ce7-bfff-4f7c-ac16-1a0492db3185"
      },
      "execution_count": 7,
      "outputs": [
        {
          "output_type": "stream",
          "name": "stderr",
          "text": [
            "INFO:     Started server process [6971]\n",
            "INFO:     Waiting for application startup.\n",
            "INFO:     Application startup complete.\n",
            "INFO:     Uvicorn running on http://0.0.0.0:8000 (Press CTRL+C to quit)\n"
          ]
        },
        {
          "output_type": "stream",
          "name": "stdout",
          "text": [
            "Public URL: https://e419e9adc6c6.ngrok-free.app\n",
            "Shutting down server.\n"
          ]
        }
      ]
    }
  ]
}